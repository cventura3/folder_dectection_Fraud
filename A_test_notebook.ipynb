{
 "cells": [
  {
   "cell_type": "code",
   "execution_count": 5,
   "metadata": {},
   "outputs": [
    {
     "name": "stdout",
     "output_type": "stream",
     "text": [
      "0      0\n",
      "1      0\n",
      "2      0\n",
      "3      0\n",
      "4      0\n",
      "      ..\n",
      "192    0\n",
      "193    0\n",
      "194    0\n",
      "195    0\n",
      "196    1\n",
      "Length: 197, dtype: int64\n"
     ]
    },
    {
     "data": {
      "text/plain": [
       "7"
      ]
     },
     "execution_count": 5,
     "metadata": {},
     "output_type": "execute_result"
    }
   ],
   "source": [
    "import pandas as pd\n",
    "import numpy as np\n",
    "from matplotlib import pyplot as plt\n",
    "import seaborn as sns\n",
    "sns.set()\n",
    "df1_GDP = pd.read_excel(r\"C:\\Users\\Jazmi\\OneDrive\\Documents\\coding\\Income_Life_pop\\income_per_person_gdppercapita_ppp_inflation_adjusted.xlsx\")\n",
    "df2_Life_Exp = pd.read_excel(r\"C:\\Users\\Jazmi\\OneDrive\\Documents\\coding\\Income_Life_pop\\life_expectancy_years.xlsx\")\n",
    "df3_pop = pd.read_excel(r\"C:\\Users\\Jazmi\\OneDrive\\Documents\\coding\\Income_Life_pop\\population_total.xlsx\")\n",
    "df4_country_continent = pd.read_excel(r\"C:\\Users\\Jazmi\\OneDrive\\Documents\\coding\\Income_Life_pop\\Country_continent_by_Gapminder.xlsx\", sheet_name= \"country_continent\")\n",
    "\n",
    "# If you want to count the missing values in each column, try: df.isnull().sum() or df.isnull().sum(axis=0)\n",
    "# On the other hand, you can count in each row (which is your question) by: df.isnull().sum(axis=1)\n",
    "# get the number of missing data in each columns\n",
    "df4_country_continent.isnull().sum(axis = 0)\n",
    "\n",
    "#get the number of missing data in each index (rows)\n",
    "print (df4_country_continent.isnull().sum(axis = 1))\n",
    "\n",
    "#get total sum of all of the NaN in the data\n",
    "df4_country_continent.isnull().sum().sum()"
   ]
  },
  {
   "cell_type": "code",
   "execution_count": 4,
   "metadata": {},
   "outputs": [
    {
     "name": "stdout",
     "output_type": "stream",
     "text": [
      "       country  1800  1801  1802  1803  1804  1805  1806  1807  1808  ...  \\\n",
      "0  Afghanistan   603   603   603   603   603   603   603   603   603  ...   \n",
      "1      Albania   667   667   667   667   667   668   668   668   668  ...   \n",
      "2      Algeria   715   716   717   718   719   720   721   722   723  ...   \n",
      "3      Andorra  1200  1200  1200  1200  1210  1210  1210  1210  1220  ...   \n",
      "4       Angola   618   620   623   626   628   631   634   637   640  ...   \n",
      "\n",
      "    2031   2032   2033   2034   2035   2036   2037   2038   2039   2040  \n",
      "0   2550   2600   2660   2710   2770   2820   2880   2940   3000   3060  \n",
      "1  19400  19800  20200  20600  21000  21500  21900  22300  22800  23300  \n",
      "2  14300  14600  14900  15200  15500  15800  16100  16500  16800  17100  \n",
      "3  73600  75100  76700  78300  79900  81500  83100  84800  86500  88300  \n",
      "4   6110   6230   6350   6480   6610   6750   6880   7020   7170   7310  \n",
      "\n",
      "[5 rows x 242 columns]\n"
     ]
    }
   ],
   "source": [
    "print(df1_GDP.head())\n"
   ]
  },
  {
   "cell_type": "code",
   "execution_count": null,
   "metadata": {},
   "outputs": [],
   "source": []
  }
 ],
 "metadata": {
  "kernelspec": {
   "display_name": "Python 3",
   "language": "python",
   "name": "python3"
  },
  "language_info": {
   "codemirror_mode": {
    "name": "ipython",
    "version": 3
   },
   "file_extension": ".py",
   "mimetype": "text/x-python",
   "name": "python",
   "nbconvert_exporter": "python",
   "pygments_lexer": "ipython3",
   "version": "3.8.1"
  }
 },
 "nbformat": 4,
 "nbformat_minor": 4
}
